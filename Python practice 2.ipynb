{
  "nbformat": 4,
  "nbformat_minor": 0,
  "metadata": {
    "colab": {
      "name": "Untitled3.ipynb",
      "provenance": [],
      "collapsed_sections": [],
      "authorship_tag": "ABX9TyMKq7DnVHWWaWsTqWK1dfZj",
      "include_colab_link": true
    },
    "kernelspec": {
      "name": "python3",
      "display_name": "Python 3"
    },
    "language_info": {
      "name": "python"
    }
  },
  "cells": [
    {
      "cell_type": "markdown",
      "metadata": {
        "id": "view-in-github",
        "colab_type": "text"
      },
      "source": [
        "<a href=\"https://colab.research.google.com/github/DhamaGaurav/DhamaGaurav/blob/main/Python%20practice%202.ipynb\" target=\"_parent\"><img src=\"https://colab.research.google.com/assets/colab-badge.svg\" alt=\"Open In Colab\"/></a>"
      ]
    },
    {
      "cell_type": "markdown",
      "metadata": {
        "id": "0zYiiLFlB7fN"
      },
      "source": [
        ""
      ]
    },
    {
      "cell_type": "code",
      "metadata": {
        "id": "184jbPq7B8BS"
      },
      "source": [
        "Fibonnaci number"
      ],
      "execution_count": null,
      "outputs": []
    },
    {
      "cell_type": "code",
      "metadata": {
        "colab": {
          "base_uri": "https://localhost:8080/"
        },
        "id": "YG7J3mXsB3Fb",
        "outputId": "d109de14-5eb8-4927-c4a5-7ec5ae40292d"
      },
      "source": [
        "xnum = int(input(\"Enter a number: \"))\n",
        "k = 0\n",
        "j = 1\n",
        "l = 0\n",
        "for i in range(0,xnum+1):\n",
        "  l = j+k\n",
        "  print(l)\n",
        "  k=j\n",
        "  j = l  "
      ],
      "execution_count": 15,
      "outputs": [
        {
          "output_type": "stream",
          "text": [
            "1\n",
            "2\n",
            "3\n",
            "5\n",
            "8\n",
            "13\n",
            "21\n",
            "34\n",
            "55\n",
            "89\n",
            "144\n"
          ],
          "name": "stdout"
        }
      ]
    },
    {
      "cell_type": "markdown",
      "metadata": {
        "id": "mOtuVP9CHuv8"
      },
      "source": [
        "Checking if a number is Fibonnaci number"
      ]
    },
    {
      "cell_type": "code",
      "metadata": {
        "id": "0m-pRBA9UqT_"
      },
      "source": [
        "import math"
      ],
      "execution_count": 45,
      "outputs": []
    },
    {
      "cell_type": "code",
      "metadata": {
        "colab": {
          "base_uri": "https://localhost:8080/"
        },
        "id": "cOJN2BYfHxIC",
        "outputId": "9ed8a3c3-a6f8-44a8-e77b-7a882ac95078"
      },
      "source": [
        "def check(n):\n",
        "  x = (5*n*n+4)\n",
        "  y = (5*n*n-4)\n",
        "  x2 = int(math.sqrt(x))*int(math.sqrt(x))\n",
        "  y2 = int(math.sqrt(y))*int(math.sqrt(y))\n",
        "  if (x2 == x):\n",
        "    return True\n",
        "  elif (y2 == y):\n",
        "    return True\n",
        "  else: False\n",
        "\n",
        "xnum = int(input(\"Enter a number: \"))\n",
        "\n",
        "if check(xnum):\n",
        "  print(xnum,\"is a Fibonacci number\")\n",
        "else: print(xnum,\"is not a Fibonacci number\")"
      ],
      "execution_count": 46,
      "outputs": [
        {
          "output_type": "stream",
          "text": [
            "Enter a number: 7\n",
            "7 is not a Fibonacci number\n"
          ],
          "name": "stdout"
        }
      ]
    },
    {
      "cell_type": "code",
      "metadata": {
        "colab": {
          "base_uri": "https://localhost:8080/"
        },
        "id": "mP8LrYuRbC5C",
        "outputId": "ab51eb82-013d-48cc-9081-7ba406d7d6b0"
      },
      "source": [
        "xnum = int(input(\"Multiple of which number: \"))\n",
        "xmult = int(input(\"which multiple of the number:  \"))\n",
        "xfound = 0\n",
        "k = 0\n",
        "j = 1\n",
        "l = 0\n",
        "i = 1\n",
        "xcount = xmult\n",
        "while i != 0:\n",
        "  l = j+k\n",
        "  #print(l)\n",
        "  k=j\n",
        "  j = l\n",
        "  if (l % xnum == 0):\n",
        "    xcount -= 1\n",
        "    if (xcount ==0):\n",
        "      i=0\n",
        "\n",
        "#xposition = xfound*xmult\n",
        "\n",
        "print(xmult,\"th multiple of\",xnum,\"in fibbonaci series is\",l)"
      ],
      "execution_count": 43,
      "outputs": [
        {
          "output_type": "stream",
          "text": [
            "Multiple of which number: 5\n",
            "which multiple of the number:  6\n",
            "6 th multiple of 5 in fibbonaci series is 832040\n"
          ],
          "name": "stdout"
        }
      ]
    },
    {
      "cell_type": "markdown",
      "metadata": {
        "id": "QLIigiWLKUYv"
      },
      "source": [
        "ASCII code"
      ]
    },
    {
      "cell_type": "code",
      "metadata": {
        "colab": {
          "base_uri": "https://localhost:8080/"
        },
        "id": "90qURW1OKV1Y",
        "outputId": "b2363267-6d3f-491e-bdee-466d5d1554b2"
      },
      "source": [
        "xtext = input(\"Enter the text:\\t\")\n",
        "xsum = 0\n",
        "for i in xtext:\n",
        "  print(i,\"\\t\",ord(i))\n",
        "  xsum += ord(i)\n",
        "print(\"\\nYour personalised code is\",xsum)"
      ],
      "execution_count": 9,
      "outputs": [
        {
          "output_type": "stream",
          "text": [
            "Enter the text:\tGaurav Dhama\n",
            "G \t 71\n",
            "a \t 97\n",
            "u \t 117\n",
            "r \t 114\n",
            "a \t 97\n",
            "v \t 118\n",
            "  \t 32\n",
            "D \t 68\n",
            "h \t 104\n",
            "a \t 97\n",
            "m \t 109\n",
            "a \t 97\n",
            "\n",
            "Your secrect code is 1121\n"
          ],
          "name": "stdout"
        }
      ]
    },
    {
      "cell_type": "markdown",
      "metadata": {
        "id": "weM2_8LmLxSz"
      },
      "source": [
        "Sum of squares"
      ]
    },
    {
      "cell_type": "code",
      "metadata": {
        "id": "nPtB-U1yLzMa"
      },
      "source": [
        "def power(x,n):\n",
        "  return (pow(x,n))"
      ],
      "execution_count": 15,
      "outputs": []
    },
    {
      "cell_type": "code",
      "metadata": {
        "colab": {
          "base_uri": "https://localhost:8080/"
        },
        "id": "eXEwD-wMMCT0",
        "outputId": "fc8c0179-d216-4247-a7e3-f2e2c4ff49b2"
      },
      "source": [
        "xnum = int(input(\"Enter a number:\\t\"))\n",
        "xsum = 0\n",
        "xpow = int(input(\"Which power:\\t\"))\n",
        "for i in range(1,xnum+1):\n",
        "  xsum += power(i,xpow)\n",
        "print(xsum)"
      ],
      "execution_count": 19,
      "outputs": [
        {
          "output_type": "stream",
          "text": [
            "Enter a number:\t3\n",
            "Which power:\t3\n",
            "36\n"
          ],
          "name": "stdout"
        }
      ]
    },
    {
      "cell_type": "markdown",
      "metadata": {
        "id": "TlPggCWRNqrr"
      },
      "source": [
        "Sum of array"
      ]
    },
    {
      "cell_type": "code",
      "metadata": {
        "colab": {
          "base_uri": "https://localhost:8080/"
        },
        "id": "0Eo1VpL8NsGV",
        "outputId": "f244d042-f9b2-4f24-90b6-07c7c9f80b2c"
      },
      "source": [
        "xarray = {1,2,3,4,5}\n",
        "xsum = 0\n",
        "for i in xarray:\n",
        "  xsum += i\n",
        "print(xsum)"
      ],
      "execution_count": 20,
      "outputs": [
        {
          "output_type": "stream",
          "text": [
            "15\n"
          ],
          "name": "stdout"
        }
      ]
    },
    {
      "cell_type": "code",
      "metadata": {
        "colab": {
          "base_uri": "https://localhost:8080/"
        },
        "id": "YZWpEMRtOBTe",
        "outputId": "9d561c9d-9da8-49e6-ad7c-a303114034e7"
      },
      "source": [
        "xarray = {1,2,3,4,5}\n",
        "print(max(xarray))"
      ],
      "execution_count": 22,
      "outputs": [
        {
          "output_type": "stream",
          "text": [
            "5\n"
          ],
          "name": "stdout"
        }
      ]
    },
    {
      "cell_type": "code",
      "metadata": {
        "id": "LkcxSp10aiQ9"
      },
      "source": [
        "import numpy as np"
      ],
      "execution_count": 39,
      "outputs": []
    },
    {
      "cell_type": "code",
      "metadata": {
        "colab": {
          "base_uri": "https://localhost:8080/"
        },
        "id": "eN7DN2DCOxba",
        "outputId": "60eab6bd-86ec-409f-c739-7b7840fd34af"
      },
      "source": [
        "xarray = {1,2,3,4,5}\n",
        "xlist = list(xarray)\n",
        "xtemp = \"\"\n",
        "xrot = 2\n",
        "i=0\n",
        "while i < xrot:\n",
        "  #print(xlist[i])\n",
        "  xtemp = xlist[i]\n",
        "  del xlist[i]\n",
        "  #print(xlist)\n",
        "  xlist.append(xtemp)\n",
        "  i+=1\n",
        "print(xlist)"
      ],
      "execution_count": 49,
      "outputs": [
        {
          "output_type": "stream",
          "text": [
            "[2, 4, 5, 1, 3]\n"
          ],
          "name": "stdout"
        }
      ]
    },
    {
      "cell_type": "markdown",
      "metadata": {
        "id": "LBYr4jdHy92q"
      },
      "source": [
        "Reversal algorithm for array rotation"
      ]
    },
    {
      "cell_type": "code",
      "metadata": {
        "colab": {
          "base_uri": "https://localhost:8080/"
        },
        "id": "J9VwUd3bzBpX",
        "outputId": "6a10b788-ded3-4fb3-8a19-728b92bba27f"
      },
      "source": [
        "xarray = {1,2,3,4,5}\n",
        "xlist = list(xarray)\n",
        "xnum = 2\n",
        "i=0\n",
        "j = xnum-1\n",
        "xlist1 = []\n",
        "xlist2 = []\n",
        "while i < xnum:\n",
        "  xlist1.append(xlist[j])\n",
        "  i += 1\n",
        "  j -= 1\n",
        "while i < len(xlist):\n",
        "  xlist2.append(xlist[i])\n",
        "  i += 1\n",
        "\n",
        "xlistnew = xlist2 + xlist1\n",
        "print(xlist1)\n",
        "print(xlist2)\n",
        "print(xlistnew)"
      ],
      "execution_count": 63,
      "outputs": [
        {
          "output_type": "stream",
          "text": [
            "[2, 1]\n",
            "[3, 4, 5]\n",
            "[3, 4, 5, 2, 1]\n"
          ],
          "name": "stdout"
        }
      ]
    },
    {
      "cell_type": "markdown",
      "metadata": {
        "id": "b4Nxx0N04T-K"
      },
      "source": [
        "Splliting array"
      ]
    },
    {
      "cell_type": "code",
      "metadata": {
        "colab": {
          "base_uri": "https://localhost:8080/"
        },
        "id": "JZgRr6vy4V7Z",
        "outputId": "531871a5-9803-472a-97e5-81fdc708ce7d"
      },
      "source": [
        "xarray = {1,2,3,4,5}\n",
        "xlist = list(xarray)\n",
        "xnum = 2\n",
        "i=0\n",
        "xlist1 = []\n",
        "xlist2 = []\n",
        "while i < xnum:\n",
        "  xlist1.append(xlist[i])\n",
        "  i += 1\n",
        "while i < len(xlist):\n",
        "  xlist2.append(xlist[i])\n",
        "  i += 1\n",
        "\n",
        "xlistnew = xlist2 + xlist1\n",
        "print(xlist1)\n",
        "print(xlist2)\n",
        "print(xlistnew)"
      ],
      "execution_count": 64,
      "outputs": [
        {
          "output_type": "stream",
          "text": [
            "[1, 2]\n",
            "[3, 4, 5]\n",
            "[3, 4, 5, 1, 2]\n"
          ],
          "name": "stdout"
        }
      ]
    }
  ]
}