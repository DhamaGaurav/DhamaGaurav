{
  "nbformat": 4,
  "nbformat_minor": 0,
  "metadata": {
    "colab": {
      "name": "Untitled2.ipynb",
      "provenance": [],
      "collapsed_sections": [],
      "authorship_tag": "ABX9TyO7DtBT/ultiOtNmQe8AVhY",
      "include_colab_link": true
    },
    "kernelspec": {
      "name": "python3",
      "display_name": "Python 3"
    },
    "language_info": {
      "name": "python"
    }
  },
  "cells": [
    {
      "cell_type": "markdown",
      "metadata": {
        "id": "view-in-github",
        "colab_type": "text"
      },
      "source": [
        "<a href=\"https://colab.research.google.com/github/DhamaGaurav/DhamaGaurav/blob/main/Python%20practice.ipynb\" target=\"_parent\"><img src=\"https://colab.research.google.com/assets/colab-badge.svg\" alt=\"Open In Colab\"/></a>"
      ]
    },
    {
      "cell_type": "code",
      "metadata": {
        "id": "1E9pVeT704ke"
      },
      "source": [
        "num_list = list(range(1500,2701))"
      ],
      "execution_count": 7,
      "outputs": []
    },
    {
      "cell_type": "code",
      "metadata": {
        "id": "TgNbWVcU3Hwv"
      },
      "source": [
        "num_list"
      ],
      "execution_count": null,
      "outputs": []
    },
    {
      "cell_type": "code",
      "metadata": {
        "colab": {
          "base_uri": "https://localhost:8080/"
        },
        "id": "1U9pnpeC4Xj9",
        "outputId": "bfdf049d-4fdc-492a-c661-6ba43153dbf8"
      },
      "source": [
        "1765//7"
      ],
      "execution_count": 20,
      "outputs": [
        {
          "output_type": "execute_result",
          "data": {
            "text/plain": [
              "252"
            ]
          },
          "metadata": {},
          "execution_count": 20
        }
      ]
    },
    {
      "cell_type": "code",
      "metadata": {
        "id": "SVZQ9_pG4HD5"
      },
      "source": [
        "for i in num_list:\n",
        "  print(type(i//7))"
      ],
      "execution_count": null,
      "outputs": []
    },
    {
      "cell_type": "markdown",
      "metadata": {
        "id": "odmZFb_89gXN"
      },
      "source": [
        "numbers which are divisible by 7\n",
        "and multiple of 5, between 1500 and 2700 (both included)."
      ]
    },
    {
      "cell_type": "code",
      "metadata": {
        "colab": {
          "base_uri": "https://localhost:8080/"
        },
        "id": "WyF8xvkH1QDE",
        "outputId": "ee848d7f-7d5c-4f49-c524-c37299018b8e"
      },
      "source": [
        "xnum = []\n",
        "for i in num_list:\n",
        "  if (i%7 == 0) & (i%5 == 0):\n",
        "    xnum.append(i)\n",
        "print(xnum)"
      ],
      "execution_count": 22,
      "outputs": [
        {
          "output_type": "stream",
          "text": [
            "[1505, 1540, 1575, 1610, 1645, 1680, 1715, 1750, 1785, 1820, 1855, 1890, 1925, 1960, 1995, 2030, 2065, 2100, 2135, 2170, 2205, 2240, 2275, 2310, 2345, 2380, 2415, 2450, 2485, 2520, 2555, 2590, 2625, 2660, 2695]\n"
          ],
          "name": "stdout"
        }
      ]
    },
    {
      "cell_type": "markdown",
      "metadata": {
        "id": "sfc6ga6j6EZv"
      },
      "source": [
        "Factorial program"
      ]
    },
    {
      "cell_type": "code",
      "metadata": {
        "colab": {
          "base_uri": "https://localhost:8080/"
        },
        "id": "YVIVDs626Lze",
        "outputId": "0a5e5b50-51c6-4492-8001-5604dbd01202"
      },
      "source": [
        "num1 = int(input(\"Input a number to find its factorial\"))+1\n",
        "fact1 = 1\n",
        "for i in range(1,num1):\n",
        "  fact1 *= i\n",
        "print(fact1)"
      ],
      "execution_count": 27,
      "outputs": [
        {
          "output_type": "stream",
          "text": [
            "Input a number to find its factorial5\n",
            "120\n"
          ],
          "name": "stdout"
        }
      ]
    },
    {
      "cell_type": "markdown",
      "metadata": {
        "id": "P--jmBvE7NXN"
      },
      "source": [
        "Simple Interest"
      ]
    },
    {
      "cell_type": "code",
      "metadata": {
        "colab": {
          "base_uri": "https://localhost:8080/"
        },
        "id": "1LpW5SMd7O_F",
        "outputId": "db356df1-17b8-4667-d357-c69064a6fdba"
      },
      "source": [
        "Roi = float(input(\"What is the reate of interest\"))\n",
        "Principal = float(input(\"What is the Principal amount\"))\n",
        "period = int(input(\"Maturity period in years\"))\n",
        "\n",
        "SI = (Roi*Principal*period)/100\n",
        "print(SI)"
      ],
      "execution_count": 33,
      "outputs": [
        {
          "output_type": "stream",
          "text": [
            "What is the reate of interest3.5\n",
            "What is the Principal amount15000.50\n",
            "Maturity period in years10\n",
            "5250.175\n"
          ],
          "name": "stdout"
        }
      ]
    },
    {
      "cell_type": "markdown",
      "metadata": {
        "id": "PMKiE9K69Ea4"
      },
      "source": [
        "Compound interest"
      ]
    },
    {
      "cell_type": "code",
      "metadata": {
        "colab": {
          "base_uri": "https://localhost:8080/"
        },
        "id": "YyFE_ZP_9GYC",
        "outputId": "9a756883-a91f-4077-b496-f5afd143d791"
      },
      "source": [
        "P = float(input(\"Enter the principal amount:  \"))\n",
        "T = int(input(\"\\nEnter the time period: \"))\n",
        "R = float(input(\"\\nEnter the interest rate: \"))/100\n",
        "print(\"\\nEnter 1 for monthly compounding\")\n",
        "print(\"\\nEnter 2 for quarterly compounding\")\n",
        "print(\"\\nEnter 3 for semi annual compounding\")\n",
        "print(\"\\nEnter 4 for annual compounding\")\n",
        "\n",
        "i = int(input(\"\\nEnter your choice: \"))\n",
        "if i == 1:\n",
        "  n = 12\n",
        "elif i == 2:\n",
        "  n = 4\n",
        "elif i == 3:\n",
        "  n = 2\n",
        "elif i == 4:\n",
        "  n = 1\n",
        "else: n = 1\n",
        "\n",
        "cmpd_i = P*((1+(R/n))**(n*T))\n",
        "print(cmpd_i)\n"
      ],
      "execution_count": 9,
      "outputs": [
        {
          "output_type": "stream",
          "text": [
            "Enter the principal amount:  500000\n",
            "\n",
            "Enter the time period: 5\n",
            "\n",
            "Enter the interest rate: 8\n",
            "\n",
            "Enter 1 for monthly compounding\n",
            "\n",
            "Enter 2 for quarterly compounding\n",
            "\n",
            "Enter 3 for semi annual compounding\n",
            "\n",
            "Enter 4 for annual compounding\n",
            "\n",
            "Enter your choice: 3\n",
            "740122.1424591722\n"
          ],
          "name": "stdout"
        }
      ]
    },
    {
      "cell_type": "code",
      "metadata": {
        "id": "1Q8BXippCmiI"
      },
      "source": [
        "P = 50000\n",
        "R = 10\n",
        "T = 5\n",
        "n = 2\n",
        "print(R*T)\n",
        "print(R/n)\n",
        "print(P*(1+R/(n*100))**(n*T)-P)\n",
        "print(P*pow((1+R/(n*100)),n*T)-P)"
      ],
      "execution_count": null,
      "outputs": []
    },
    {
      "cell_type": "markdown",
      "metadata": {
        "id": "Vr2cYTZkl5mB"
      },
      "source": [
        "Armstrong Number"
      ]
    },
    {
      "cell_type": "code",
      "metadata": {
        "colab": {
          "base_uri": "https://localhost:8080/"
        },
        "id": "L3q4TIP6l4jr",
        "outputId": "8be27ae0-88db-40df-951a-6d0d07b55b67"
      },
      "source": [
        "num = input(\"Enter a value to check if it is an Armstrong number\")\n",
        "xsum = 0\n",
        "for i in num:\n",
        "  xsum += pow(int(i),3)\n",
        "if int(xsum) == int(num):\n",
        "  print(num,\"is an Armstrong number\")\n",
        "else: print(num, \"is not an Armstrong number\")"
      ],
      "execution_count": 23,
      "outputs": [
        {
          "output_type": "stream",
          "text": [
            "372 is not an Armstrong number\n"
          ],
          "name": "stdout"
        }
      ]
    },
    {
      "cell_type": "code",
      "metadata": {
        "colab": {
          "base_uri": "https://localhost:8080/"
        },
        "id": "yUImRuzOntdl",
        "outputId": "1d260ddd-ab1b-4fb4-af83-ceca6438e712"
      },
      "source": [
        "num1 = 1\n",
        "num2 = 400\n",
        "rng1 = range(num1,num2)\n",
        "xsum = 0\n",
        "for j in rng1:\n",
        "  for i in str(j):\n",
        "    xsum += pow(int(i),3)\n",
        "  if int(xsum) == int(j):\n",
        "    print(j,\"is an Armstrong number\")\n",
        "  xsum = 0\n"
      ],
      "execution_count": 31,
      "outputs": [
        {
          "output_type": "stream",
          "text": [
            "1 is an Armstrong number\n",
            "153 is an Armstrong number\n",
            "370 is an Armstrong number\n",
            "371 is an Armstrong number\n"
          ],
          "name": "stdout"
        }
      ]
    },
    {
      "cell_type": "markdown",
      "metadata": {
        "id": "QoBnySzepzRT"
      },
      "source": [
        "Area of circle"
      ]
    },
    {
      "cell_type": "code",
      "metadata": {
        "colab": {
          "base_uri": "https://localhost:8080/"
        },
        "id": "lkuNNTmsp08L",
        "outputId": "97f9e2bc-27a3-4979-8729-2f0f7b6ec560"
      },
      "source": [
        "pie = 3.14159\n",
        "\n",
        "R = int(input(\"Enter the radius of circle in 'cm'\"))\n",
        "\n",
        "area = pie*pow(R,2)\n",
        "print(area)"
      ],
      "execution_count": 35,
      "outputs": [
        {
          "output_type": "stream",
          "text": [
            "Enter the radius of circle in 'cm'50\n",
            "7853.974999999999\n"
          ],
          "name": "stdout"
        }
      ]
    },
    {
      "cell_type": "markdown",
      "metadata": {
        "id": "IhhNWtfGqktk"
      },
      "source": [
        "Prime Number in range"
      ]
    },
    {
      "cell_type": "code",
      "metadata": {
        "colab": {
          "base_uri": "https://localhost:8080/"
        },
        "id": "UAp_XhJ-ql_q",
        "outputId": "eea0298a-1396-4e17-d020-e980e4cbadb6"
      },
      "source": [
        "def fun(n):\n",
        "  for j in range(2,n):\n",
        "        if i%j == 0:\n",
        "          return False\n",
        "  else: return True\n",
        "\n",
        "rng1 = range(int(input(\"\\nEnter starting value: \")),int(input(\"\\nEnter last value: \"))+1)\n",
        "for i in rng1:\n",
        "    if i <=2:\n",
        "      print(i)\n",
        "    elif fun(i):\n",
        "        print(i)\n"
      ],
      "execution_count": 48,
      "outputs": [
        {
          "output_type": "stream",
          "text": [
            "\n",
            "Enter starting value: 1\n",
            "\n",
            "Enter last value: 100\n",
            "1\n",
            "2\n",
            "3\n",
            "5\n",
            "7\n",
            "11\n",
            "13\n",
            "17\n",
            "19\n",
            "23\n",
            "29\n",
            "31\n",
            "37\n",
            "41\n",
            "43\n",
            "47\n",
            "53\n",
            "59\n",
            "61\n",
            "67\n",
            "71\n",
            "73\n",
            "79\n",
            "83\n",
            "89\n",
            "97\n"
          ],
          "name": "stdout"
        }
      ]
    },
    {
      "cell_type": "markdown",
      "metadata": {
        "id": "4LdPlNCD3cjl"
      },
      "source": [
        "Prime number check"
      ]
    },
    {
      "cell_type": "code",
      "metadata": {
        "colab": {
          "base_uri": "https://localhost:8080/"
        },
        "id": "VWtxOHQv3eBO",
        "outputId": "ee5de828-4937-45b4-d44e-3e0558f60353"
      },
      "source": [
        "xnum = int(input(\"Enter a number: \"))\n",
        "for i in range(2,xnum):\n",
        "  if xnum%i != 0:\n",
        "    print(xnum,\"is Prime\")\n",
        "    break\n",
        "  else: print(xnum,\"is not Prime\")"
      ],
      "execution_count": 59,
      "outputs": [
        {
          "output_type": "stream",
          "text": [
            "Enter a number: 10\n",
            "10 is not Prime\n",
            "10 is Prime\n"
          ],
          "name": "stdout"
        }
      ]
    },
    {
      "cell_type": "code",
      "metadata": {
        "colab": {
          "base_uri": "https://localhost:8080/"
        },
        "id": "l5uEbmMN5_Yx",
        "outputId": "8b021195-1c70-4086-9533-a61e9139bcc3"
      },
      "source": [
        "xnum = int(input(\"Enter a number: \"))\n",
        "xsum = 0\n",
        "if xnum <= 1 : print(\"xnum is Prime\")\n",
        "xsum = 0\n",
        "for i in range(2,xnum):\n",
        "  if xnum%i == 0:\n",
        "    print(xnum,\"is not prime\")\n",
        "    break\n",
        "  xsum += 1\n",
        "if xsum > 0:\n",
        "  print(xnum,\"is prime\")"
      ],
      "execution_count": 83,
      "outputs": [
        {
          "output_type": "stream",
          "text": [
            "Enter a number: 79\n",
            "79 is prime\n"
          ],
          "name": "stdout"
        }
      ]
    }
  ]
}